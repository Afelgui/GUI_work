{
 "cells": [
  {
   "cell_type": "code",
   "execution_count": 1,
   "metadata": {},
   "outputs": [],
   "source": [
    "import cv2\n",
    "import numpy as np\n",
    "import matplotlib.pyplot as plt"
   ]
  },
  {
   "cell_type": "code",
   "execution_count": 2,
   "metadata": {},
   "outputs": [
    {
     "name": "stdout",
     "output_type": "stream",
     "text": [
      "(838, 1176)\n"
     ]
    },
    {
     "data": {
      "text/plain": [
       "(array([  6628,      0,      0,      0,      0,      0,      0,      0,\n",
       "             0,      0,      0,      0,      0,      0,      0,      0,\n",
       "             0,      0,      0,      0,      0,    680,      0,      1,\n",
       "             3,      0,      0,      0,    833,      0,      0,      0,\n",
       "             0,      0,    349,      0,      0,      0,      0,    511,\n",
       "             0,      0,      0,    351,      0,      0,    707,      0,\n",
       "             0,      0,    294,   1015,      0,    185,      0,      0,\n",
       "            83,      0,      0,    138,      0,    239,      0,      0,\n",
       "           114,      0,    133,      0,    129,      0,    189,      0,\n",
       "            80,      0,    334,      7,    318,      0,    419,     31,\n",
       "            73,     22,    165,     21,    139,    629,    351,    156,\n",
       "            35,    218,    285,     37,    247,    110,     25,    131,\n",
       "           156,      7,    133,     59,     11,    881,    121,    312,\n",
       "             8,     67,    157,    220,      2,    201,    897,    146,\n",
       "           215,      3,    257,    135,    108,    167,    221,     56,\n",
       "           103,      3,    210,    241,    111,    188,     37,     60,\n",
       "            68,    189,     86,     72,     56,    227,    146,     44,\n",
       "            77,    113,    102,     68,    203,    180,    146,     70,\n",
       "           241,     82,     36,     54,     76,    289,     94,    102,\n",
       "           298,     54,     49,     78,     79,    287,    129,   5265,\n",
       "            25,    144,    177,     17,    150,     84,    216,     79,\n",
       "            76,    152,    113,     92,    172,    126,    109,     48,\n",
       "            46,    370,    156,    297,    123,     53,    427,    103,\n",
       "           275,    332,    171,     81,    107,     81,    317,     73,\n",
       "           362,    126,    144,    100,     29,    324,     62,    201,\n",
       "           294,    139,     54,     80,   2153,    298,    225,   4657,\n",
       "           148,    139,    414,     57,    253,     43,    564,     81,\n",
       "           107,    313,    171,    306,    112,   2701,     97,   2598,\n",
       "          2613,   2821,   2642,    141,   2636,   2764,   2738,   4808,\n",
       "          5067,   6191,   4984,     96,    474,    114,    511,    480,\n",
       "           774,    675,    868,    491,    786,   1150,   1221, 255563,\n",
       "         53155,    564,    517,    357,    560,    675, 575940],\n",
       "       dtype=int64),\n",
       " array([  0.,   1.,   2.,   3.,   4.,   5.,   6.,   7.,   8.,   9.,  10.,\n",
       "         11.,  12.,  13.,  14.,  15.,  16.,  17.,  18.,  19.,  20.,  21.,\n",
       "         22.,  23.,  24.,  25.,  26.,  27.,  28.,  29.,  30.,  31.,  32.,\n",
       "         33.,  34.,  35.,  36.,  37.,  38.,  39.,  40.,  41.,  42.,  43.,\n",
       "         44.,  45.,  46.,  47.,  48.,  49.,  50.,  51.,  52.,  53.,  54.,\n",
       "         55.,  56.,  57.,  58.,  59.,  60.,  61.,  62.,  63.,  64.,  65.,\n",
       "         66.,  67.,  68.,  69.,  70.,  71.,  72.,  73.,  74.,  75.,  76.,\n",
       "         77.,  78.,  79.,  80.,  81.,  82.,  83.,  84.,  85.,  86.,  87.,\n",
       "         88.,  89.,  90.,  91.,  92.,  93.,  94.,  95.,  96.,  97.,  98.,\n",
       "         99., 100., 101., 102., 103., 104., 105., 106., 107., 108., 109.,\n",
       "        110., 111., 112., 113., 114., 115., 116., 117., 118., 119., 120.,\n",
       "        121., 122., 123., 124., 125., 126., 127., 128., 129., 130., 131.,\n",
       "        132., 133., 134., 135., 136., 137., 138., 139., 140., 141., 142.,\n",
       "        143., 144., 145., 146., 147., 148., 149., 150., 151., 152., 153.,\n",
       "        154., 155., 156., 157., 158., 159., 160., 161., 162., 163., 164.,\n",
       "        165., 166., 167., 168., 169., 170., 171., 172., 173., 174., 175.,\n",
       "        176., 177., 178., 179., 180., 181., 182., 183., 184., 185., 186.,\n",
       "        187., 188., 189., 190., 191., 192., 193., 194., 195., 196., 197.,\n",
       "        198., 199., 200., 201., 202., 203., 204., 205., 206., 207., 208.,\n",
       "        209., 210., 211., 212., 213., 214., 215., 216., 217., 218., 219.,\n",
       "        220., 221., 222., 223., 224., 225., 226., 227., 228., 229., 230.,\n",
       "        231., 232., 233., 234., 235., 236., 237., 238., 239., 240., 241.,\n",
       "        242., 243., 244., 245., 246., 247., 248., 249., 250., 251., 252.,\n",
       "        253., 254., 255.]))"
      ]
     },
     "execution_count": 2,
     "metadata": {},
     "output_type": "execute_result"
    }
   ],
   "source": [
    "\n",
    "img = cv2.imread('screenshot.png', cv2.IMREAD_GRAYSCALE)\n",
    "cv2.imwrite(f'wrt.jpg',img)\n",
    "print(img.shape)\n",
    "counts, bins = np.histogram(img,255)\n",
    "counts,bins"
   ]
  },
  {
   "cell_type": "code",
   "execution_count": 3,
   "metadata": {},
   "outputs": [
    {
     "name": "stdout",
     "output_type": "stream",
     "text": [
      "(838, 1176)\n",
      "7992\n",
      "1 2 0.00781792811427681\n",
      "2 3 0.006661831579978578\n",
      "3 4 0.004630334761116094\n",
      "16 17 0.0030594117081556437\n",
      "34 35 0.002014944167960989\n",
      "53 54 0.0018761663039293926\n",
      "75 76 0.0\n",
      "euclidian done\n",
      "7992\n",
      "3 4 0.030000000000000013\n",
      "5 6 0.02780000000000004\n",
      "6 7 0.023000000000000007\n",
      "16 17 0.011399999999999934\n",
      "34 35 0.010000000000000002\n",
      "55 56 0.00619999999999998\n",
      "75 76 0.0\n"
     ]
    },
    {
     "data": {
      "text/plain": [
       "True"
      ]
     },
     "execution_count": 3,
     "metadata": {},
     "output_type": "execute_result"
    }
   ],
   "source": [
    "from scipy.spatial import distance as dis\n",
    "print(img.shape)\n",
    "def get_gist(i,j):    \n",
    "    counts, bins = np.histogram(img[i:i+100,j:j+100],255)\n",
    "    s = counts.sum()\n",
    "    b=counts/s       \n",
    "    return b\n",
    "\n",
    "def closest_pics(distance='euclidian'):\n",
    "    hist1=list()\n",
    "    idx=list()\n",
    "    shapeI,shapeJ=img.shape\n",
    "    for i in range (0,shapeI-100,10):\n",
    "        for j in range(0,shapeJ-100,10):\n",
    "            hist1.append( get_gist(i,j))\n",
    "            idx.append((i,j))\n",
    "    if (distance=='euclidian'):\n",
    "        min_dist=dis.euclidean(hist1[0],hist1[1])\n",
    "    else:\n",
    "        min_dist=dis.cityblock(hist1[0],hist1[1])\n",
    "\n",
    "    N=len(hist1)\n",
    "    print(N)\n",
    "    for num1,c in enumerate(hist1):    \n",
    "         for num2,d in enumerate(hist1):\n",
    "            if (num1!=num2):\n",
    "                if (distance=='euclidian'):\n",
    "                    dist = dis.euclidean(c,d)\n",
    "                else:\n",
    "                    dist = dis.cityblock(c,d)\n",
    "                if (dist<min_dist):\n",
    "                    min_dist =dist\n",
    "                    min_num = (num1,num2)\n",
    "                    print(num1,num2,dist)\n",
    "                if min_dist==0:\n",
    "                    break\n",
    "    num1,num2=min_num\n",
    "    # min_dist,min_num\n",
    "    i1,j1=idx[num1]\n",
    "    i2,j2=idx[num2]\n",
    "    img1 = img[i1:i1+100,j1:j1+100]\n",
    "    img2 = img[i2:i2+100,j2:j2+100]\n",
    "    return img1,img2\n",
    "\n",
    "img1,img2 = closest_pics(distance='euclidian')\n",
    "cv2.imwrite(f'euclid1.jpg',img1)\n",
    "cv2.imwrite(f'euclid2.jpg',img2)\n",
    "print('euclidian done')\n",
    "\n",
    "img1,img2 = closest_pics(distance='manahattan')\n",
    "cv2.imwrite(f'manhattan1.jpg',img1)\n",
    "cv2.imwrite(f'manhattan2.jpg',img2)"
   ]
  },
  {
   "cell_type": "code",
   "execution_count": null,
   "metadata": {},
   "outputs": [],
   "source": []
  },
  {
   "cell_type": "code",
   "execution_count": null,
   "metadata": {},
   "outputs": [],
   "source": []
  }
 ],
 "metadata": {
  "kernelspec": {
   "display_name": "Python 3",
   "language": "python",
   "name": "python3"
  },
  "language_info": {
   "codemirror_mode": {
    "name": "ipython",
    "version": 3
   },
   "file_extension": ".py",
   "mimetype": "text/x-python",
   "name": "python",
   "nbconvert_exporter": "python",
   "pygments_lexer": "ipython3",
   "version": "3.8.5"
  }
 },
 "nbformat": 4,
 "nbformat_minor": 4
}
